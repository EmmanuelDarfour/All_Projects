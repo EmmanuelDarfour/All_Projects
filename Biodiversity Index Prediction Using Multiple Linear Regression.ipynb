{
 "cells": [
  {
   "cell_type": "markdown",
   "id": "677df8af",
   "metadata": {},
   "source": [
    "## Biodiversity Index Prediction Using Multiple Linear Regression\n",
    "\n",
    "This analysis aims at building an Ordinary Least Square (OLS) model to determine how other variables influence **Biodiversity Index** in a country."
   ]
  },
  {
   "cell_type": "markdown",
   "id": "e7e5200f",
   "metadata": {},
   "source": [
    "## The dataset\n",
    "\n",
    "The `environmental_indicators` dataset is used in this analysis. The dataset contains socio-economic and environmental data collected from various countries, focusing on factors related to sustainable development. It includes information such as forest coverage, biodiversity index, protected areas, rural population, and deforestation rates, aimed at understanding the relationship between human activities and land degradation.\n",
    "\n",
    "The following are the descriptions of the columns in our dataset: \n",
    "\n",
    "* `country`: Name of the country.\n",
    "* `forest_coverage`: Percentage of land covered by forests. This indicator represents the extent of forested areas within the total land area of each country.\n",
    "* `biodiversity_index`: Index representing the biodiversity level in each country. This indicator provides a measure of the variety and variability of organisms within each country's ecosystem.\n",
    "* `protected_areas`: Percentage of land designated as protected areas. This indicator reflects the proportion of land that is legally protected and managed for conservation purposes.\n",
    "* `deforestation_rate`: Annual rate of deforestation (%). This indicator quantifies the percentage of forested land that is lost each year due to deforestation activities.\n",
    "* `carbon_sequestration`: Amount of carbon sequestered by forests (metric tons per hectare). This indicator measures the capacity of forests to absorb and store carbon dioxide from the atmosphere, thus helping mitigate climate change.\n",
    "* `soil_erosion`: Rate of soil erosion (tons per hectare per year). This indicator indicates the amount of soil that is lost or displaced annually due to erosion, which can have detrimental effects on land productivity and ecosystem health.\n",
    "* `land_degradation`: Percentage of land classified as degraded. This indicator represents the proportion of land that has suffered a decline in its ecological condition, often resulting from unsustainable land use practices.\n",
    "* `rural_population`: Percentage of population living in rural areas. This indicator reflects the proportion of a country's population residing in rural areas rather than urban centers.\n",
    "* `population_density`: Population density (people per square kilometer). This indicator quantifies the average number of people living within a unit area of land, providing insights into the distribution of human populations across different countries."
   ]
  },
  {
   "cell_type": "markdown",
   "id": "5124223d",
   "metadata": {},
   "source": [
    "## Importing libraries"
   ]
  },
  {
   "cell_type": "code",
   "execution_count": 2,
   "id": "1d5a650d",
   "metadata": {},
   "outputs": [],
   "source": [
    "# import libraries\n",
    "import pandas as pd\n",
    "import numpy as np\n",
    "import statsmodels.formula.api as smf\n",
    "import matplotlib.pyplot as plt\n",
    "import statsmodels.graphics.correlation as sgc\n",
    "from statsmodels.graphics.gofplots import qqplot\n",
    "import statsmodels.stats.api as sms\n",
    "from statsmodels.stats.outliers_influence import OLSInfluence as ssoi"
   ]
  },
  {
   "cell_type": "markdown",
   "id": "ee144835",
   "metadata": {},
   "source": [
    "## Preparing data"
   ]
  },
  {
   "cell_type": "code",
   "execution_count": 3,
   "id": "4b642f23",
   "metadata": {},
   "outputs": [
    {
     "data": {
      "text/html": [
       "<div>\n",
       "<style scoped>\n",
       "    .dataframe tbody tr th:only-of-type {\n",
       "        vertical-align: middle;\n",
       "    }\n",
       "\n",
       "    .dataframe tbody tr th {\n",
       "        vertical-align: top;\n",
       "    }\n",
       "\n",
       "    .dataframe thead th {\n",
       "        text-align: right;\n",
       "    }\n",
       "</style>\n",
       "<table border=\"1\" class=\"dataframe\">\n",
       "  <thead>\n",
       "    <tr style=\"text-align: right;\">\n",
       "      <th></th>\n",
       "      <th>forest_coverage</th>\n",
       "      <th>biodiversity_index</th>\n",
       "      <th>protected_areas</th>\n",
       "      <th>deforestation_rate</th>\n",
       "      <th>carbon_sequestration</th>\n",
       "      <th>soil_erosion</th>\n",
       "      <th>land_degradation</th>\n",
       "      <th>rural_population</th>\n",
       "      <th>population_density</th>\n",
       "    </tr>\n",
       "    <tr>\n",
       "      <th>Country</th>\n",
       "      <th></th>\n",
       "      <th></th>\n",
       "      <th></th>\n",
       "      <th></th>\n",
       "      <th></th>\n",
       "      <th></th>\n",
       "      <th></th>\n",
       "      <th></th>\n",
       "      <th></th>\n",
       "    </tr>\n",
       "  </thead>\n",
       "  <tbody>\n",
       "    <tr>\n",
       "      <th>Vietnam</th>\n",
       "      <td>36.217808</td>\n",
       "      <td>6.505159</td>\n",
       "      <td>14.832708</td>\n",
       "      <td>36.583106</td>\n",
       "      <td>53.128459</td>\n",
       "      <td>7.987880</td>\n",
       "      <td>55.020903</td>\n",
       "      <td>35.912142</td>\n",
       "      <td>468.715839</td>\n",
       "    </tr>\n",
       "    <tr>\n",
       "      <th>Guinea-Bissau</th>\n",
       "      <td>76.550001</td>\n",
       "      <td>94.888554</td>\n",
       "      <td>23.994363</td>\n",
       "      <td>123.384939</td>\n",
       "      <td>279.836286</td>\n",
       "      <td>13.013811</td>\n",
       "      <td>41.655073</td>\n",
       "      <td>34.639379</td>\n",
       "      <td>351.054600</td>\n",
       "    </tr>\n",
       "    <tr>\n",
       "      <th>Bosnia and Herzegovina</th>\n",
       "      <td>61.239576</td>\n",
       "      <td>96.563203</td>\n",
       "      <td>9.932348</td>\n",
       "      <td>115.743745</td>\n",
       "      <td>237.834951</td>\n",
       "      <td>13.037065</td>\n",
       "      <td>26.951490</td>\n",
       "      <td>78.380633</td>\n",
       "      <td>289.329973</td>\n",
       "    </tr>\n",
       "    <tr>\n",
       "      <th>Lesotho</th>\n",
       "      <td>51.906094</td>\n",
       "      <td>80.839735</td>\n",
       "      <td>33.076894</td>\n",
       "      <td>111.752369</td>\n",
       "      <td>149.948515</td>\n",
       "      <td>11.179719</td>\n",
       "      <td>27.460479</td>\n",
       "      <td>43.585863</td>\n",
       "      <td>57.616482</td>\n",
       "    </tr>\n",
       "    <tr>\n",
       "      <th>Indonesia</th>\n",
       "      <td>20.921305</td>\n",
       "      <td>30.461377</td>\n",
       "      <td>7.609273</td>\n",
       "      <td>46.450326</td>\n",
       "      <td>103.939415</td>\n",
       "      <td>2.715506</td>\n",
       "      <td>46.297784</td>\n",
       "      <td>73.522793</td>\n",
       "      <td>311.353541</td>\n",
       "    </tr>\n",
       "    <tr>\n",
       "      <th>Singapore</th>\n",
       "      <td>20.919616</td>\n",
       "      <td>9.767211</td>\n",
       "      <td>39.541043</td>\n",
       "      <td>25.249501</td>\n",
       "      <td>201.926827</td>\n",
       "      <td>16.870747</td>\n",
       "      <td>54.855513</td>\n",
       "      <td>57.868318</td>\n",
       "      <td>495.126387</td>\n",
       "    </tr>\n",
       "    <tr>\n",
       "      <th>Saint Lucia</th>\n",
       "      <td>14.065853</td>\n",
       "      <td>68.423303</td>\n",
       "      <td>32.028567</td>\n",
       "      <td>76.130581</td>\n",
       "      <td>474.309367</td>\n",
       "      <td>7.094821</td>\n",
       "      <td>54.354321</td>\n",
       "      <td>67.688678</td>\n",
       "      <td>78.641167</td>\n",
       "    </tr>\n",
       "    <tr>\n",
       "      <th>Turkmenistan</th>\n",
       "      <td>70.632330</td>\n",
       "      <td>44.015249</td>\n",
       "      <td>11.955049</td>\n",
       "      <td>73.358093</td>\n",
       "      <td>195.441319</td>\n",
       "      <td>4.543852</td>\n",
       "      <td>48.993777</td>\n",
       "      <td>50.158226</td>\n",
       "      <td>263.981530</td>\n",
       "    </tr>\n",
       "    <tr>\n",
       "      <th>Kenya</th>\n",
       "      <td>52.078051</td>\n",
       "      <td>12.203823</td>\n",
       "      <td>5.193274</td>\n",
       "      <td>36.843972</td>\n",
       "      <td>283.455780</td>\n",
       "      <td>1.774728</td>\n",
       "      <td>42.101582</td>\n",
       "      <td>54.614233</td>\n",
       "      <td>439.912805</td>\n",
       "    </tr>\n",
       "    <tr>\n",
       "      <th>United States</th>\n",
       "      <td>59.565080</td>\n",
       "      <td>49.517691</td>\n",
       "      <td>33.541150</td>\n",
       "      <td>81.512031</td>\n",
       "      <td>366.358532</td>\n",
       "      <td>12.226966</td>\n",
       "      <td>14.206998</td>\n",
       "      <td>49.551062</td>\n",
       "      <td>372.976623</td>\n",
       "    </tr>\n",
       "  </tbody>\n",
       "</table>\n",
       "</div>"
      ],
      "text/plain": [
       "                        forest_coverage  biodiversity_index  protected_areas  \\\n",
       "Country                                                                        \n",
       "Vietnam                       36.217808            6.505159        14.832708   \n",
       "Guinea-Bissau                 76.550001           94.888554        23.994363   \n",
       "Bosnia and Herzegovina        61.239576           96.563203         9.932348   \n",
       "Lesotho                       51.906094           80.839735        33.076894   \n",
       "Indonesia                     20.921305           30.461377         7.609273   \n",
       "Singapore                     20.919616            9.767211        39.541043   \n",
       "Saint Lucia                   14.065853           68.423303        32.028567   \n",
       "Turkmenistan                  70.632330           44.015249        11.955049   \n",
       "Kenya                         52.078051           12.203823         5.193274   \n",
       "United States                 59.565080           49.517691        33.541150   \n",
       "\n",
       "                        deforestation_rate  carbon_sequestration  \\\n",
       "Country                                                            \n",
       "Vietnam                          36.583106             53.128459   \n",
       "Guinea-Bissau                   123.384939            279.836286   \n",
       "Bosnia and Herzegovina          115.743745            237.834951   \n",
       "Lesotho                         111.752369            149.948515   \n",
       "Indonesia                        46.450326            103.939415   \n",
       "Singapore                        25.249501            201.926827   \n",
       "Saint Lucia                      76.130581            474.309367   \n",
       "Turkmenistan                     73.358093            195.441319   \n",
       "Kenya                            36.843972            283.455780   \n",
       "United States                    81.512031            366.358532   \n",
       "\n",
       "                        soil_erosion  land_degradation  rural_population  \\\n",
       "Country                                                                    \n",
       "Vietnam                     7.987880         55.020903         35.912142   \n",
       "Guinea-Bissau              13.013811         41.655073         34.639379   \n",
       "Bosnia and Herzegovina     13.037065         26.951490         78.380633   \n",
       "Lesotho                    11.179719         27.460479         43.585863   \n",
       "Indonesia                   2.715506         46.297784         73.522793   \n",
       "Singapore                  16.870747         54.855513         57.868318   \n",
       "Saint Lucia                 7.094821         54.354321         67.688678   \n",
       "Turkmenistan                4.543852         48.993777         50.158226   \n",
       "Kenya                       1.774728         42.101582         54.614233   \n",
       "United States              12.226966         14.206998         49.551062   \n",
       "\n",
       "                        population_density  \n",
       "Country                                     \n",
       "Vietnam                         468.715839  \n",
       "Guinea-Bissau                   351.054600  \n",
       "Bosnia and Herzegovina          289.329973  \n",
       "Lesotho                          57.616482  \n",
       "Indonesia                       311.353541  \n",
       "Singapore                       495.126387  \n",
       "Saint Lucia                      78.641167  \n",
       "Turkmenistan                    263.981530  \n",
       "Kenya                           439.912805  \n",
       "United States                   372.976623  "
      ]
     },
     "execution_count": 3,
     "metadata": {},
     "output_type": "execute_result"
    }
   ],
   "source": [
    "# Read the data\n",
    "environmental_indicators = pd.read_csv('https://raw.githubusercontent.com/Explore-AI/Public-Data/master/Data/regression_sprint/enviro_indicators.csv', index_col=0)\n",
    "environmental_indicators.head(10)"
   ]
  },
  {
   "cell_type": "code",
   "execution_count": 4,
   "id": "fb6b4aab",
   "metadata": {},
   "outputs": [
    {
     "data": {
      "text/plain": [
       "forest_coverage         0\n",
       "biodiversity_index      0\n",
       "protected_areas         0\n",
       "deforestation_rate      0\n",
       "carbon_sequestration    0\n",
       "soil_erosion            0\n",
       "land_degradation        0\n",
       "rural_population        0\n",
       "population_density      0\n",
       "dtype: int64"
      ]
     },
     "execution_count": 4,
     "metadata": {},
     "output_type": "execute_result"
    }
   ],
   "source": [
    "# check for rows containing missing data\n",
    "environmental_indicators.isnull().sum()"
   ]
  },
  {
   "cell_type": "code",
   "execution_count": 5,
   "id": "afd6e253",
   "metadata": {},
   "outputs": [],
   "source": [
    "# exclude non-numeric columns\n",
    "numeric_set = environmental_indicators.select_dtypes(include=[np.number])"
   ]
  },
  {
   "cell_type": "code",
   "execution_count": 10,
   "id": "83b79b76",
   "metadata": {},
   "outputs": [
    {
     "data": {
      "text/plain": [
       "<Figure size 1400x500 with 0 Axes>"
      ]
     },
     "metadata": {},
     "output_type": "display_data"
    },
    {
     "data": {
      "image/png": "[encoded data removed]",
      "text/plain": [
       "<Figure size 640x480 with 2 Axes>"
      ]
     },
     "metadata": {},
     "output_type": "display_data"
    }
   ],
   "source": [
    "# check for correlation between variables\n",
    "corr_matrix = numeric_set.corr()\n",
    "\n",
    "# create a heatmap for the correlation matrix \n",
    "plt.figure(figsize=(14,5))\n",
    "sgc.plot_corr(corr_matrix, xnames=corr_matrix.columns)\n",
    "plt.title(\"Correlation Heatmap of Variables\")\n",
    "plt.show()"
   ]
  },
  {
   "cell_type": "markdown",
   "id": "59c5cbb0",
   "metadata": {},
   "source": [
    "The heatmap shows correlation exists between the following variables:\n",
    "1. forest_coverage and deforestation_rate \n",
    "2. forest_coverage and biodiversity_index\n",
    "3. biodiversity_index and deforestation_rate\n",
    "4. protected_areas and soil_erosion\n",
    "5. carbon_sequestration and land_degradation \n",
    "6. carbon_sequestration and soil_erosion"
   ]
  },
  {
   "cell_type": "markdown",
   "id": "35eb0d8c",
   "metadata": {},
   "source": [
    "## Building and fitting model"
   ]
  },
  {
   "cell_type": "code",
   "execution_count": 15,
   "id": "b05969cc",
   "metadata": {},
   "outputs": [],
   "source": [
    "# declaring independent and dependent variables\n",
    "independent_cols =['forest_coverage', 'protected_areas',\n",
    "       'deforestation_rate', 'carbon_sequestration', 'soil_erosion',\n",
    "       'land_degradation', 'rural_population', 'population_density']\n",
    "\n",
    "dependent_var = 'biodiversity_index'"
   ]
  },
  {
   "cell_type": "code",
   "execution_count": 16,
   "id": "e1df2332",
   "metadata": {},
   "outputs": [
    {
     "data": {
      "text/plain": [
       "'biodiversity_index~forest_coverage+protected_areas+deforestation_rate+carbon_sequestration+soil_erosion+land_degradation+rural_population+population_density'"
      ]
     },
     "execution_count": 16,
     "metadata": {},
     "output_type": "execute_result"
    }
   ],
   "source": [
    "# geberate the regression string \n",
    "formula_str = dependent_var + '~' + '+'.join(independent_cols)\n",
    "formula_str"
   ]
  },
  {
   "cell_type": "code",
   "execution_count": 19,
   "id": "a9f48c57",
   "metadata": {},
   "outputs": [
    {
     "name": "stdout",
     "output_type": "stream",
     "text": [
      "                            OLS Regression Results                            \n",
      "==============================================================================\n",
      "Dep. Variable:     biodiversity_index   R-squared:                       0.967\n",
      "Model:                            OLS   Adj. R-squared:                  0.956\n",
      "Method:                 Least Squares   F-statistic:                     85.25\n",
      "Date:                Tue, 23 Jul 2024   Prob (F-statistic):           2.99e-15\n",
      "Time:                        12:09:31   Log-Likelihood:                -101.24\n",
      "No. Observations:                  32   AIC:                             220.5\n",
      "Df Residuals:                      23   BIC:                             233.7\n",
      "Df Model:                           8                                         \n",
      "Covariance Type:            nonrobust                                         \n",
      "========================================================================================\n",
      "                           coef    std err          t      P>|t|      [0.025      0.975]\n",
      "----------------------------------------------------------------------------------------\n",
      "Intercept                0.2536      7.169      0.035      0.972     -14.577      15.084\n",
      "forest_coverage         -0.5592      0.079     -7.083      0.000      -0.723      -0.396\n",
      "protected_areas         -0.5416      0.128     -4.235      0.000      -0.806      -0.277\n",
      "deforestation_rate       1.2299      0.052     23.864      0.000       1.123       1.337\n",
      "carbon_sequestration    -0.0087      0.011     -0.813      0.425      -0.031       0.013\n",
      "soil_erosion             0.4042      0.248      1.627      0.117      -0.110       0.918\n",
      "land_degradation         0.0403      0.092      0.436      0.667      -0.151       0.232\n",
      "rural_population        -0.0951      0.069     -1.373      0.183      -0.238       0.048\n",
      "population_density       0.0046      0.011      0.439      0.664      -0.017       0.026\n",
      "==============================================================================\n",
      "Omnibus:                        0.520   Durbin-Watson:                   1.566\n",
      "Prob(Omnibus):                  0.771   Jarque-Bera (JB):                0.053\n",
      "Skew:                          -0.066   Prob(JB):                        0.974\n",
      "Kurtosis:                       3.149   Cond. No.                     2.52e+03\n",
      "==============================================================================\n",
      "\n",
      "Notes:\n",
      "[1] Standard Errors assume that the covariance matrix of the errors is correctly specified.\n",
      "[2] The condition number is large, 2.52e+03. This might indicate that there are\n",
      "strong multicollinearity or other numerical problems.\n"
     ]
    }
   ],
   "source": [
    "# declare and fit model\n",
    "model = smf.ols(formula=formula_str, data=environmental_indicators)\n",
    "fitted = model.fit()\n",
    "\n",
    "print(fitted.summary())"
   ]
  },
  {
   "cell_type": "markdown",
   "id": "6cdd3a04",
   "metadata": {},
   "source": [
    "The chart shows that the most influential coefficients are forest_coverage, protected_areas, deforestation_rate, soil_erosion, and rural_population. Inorder to address the issue of multicollinearity, select only these independent variables to build a new model."
   ]
  },
  {
   "cell_type": "code",
   "execution_count": 21,
   "id": "82149c5e",
   "metadata": {},
   "outputs": [
    {
     "data": {
      "text/plain": [
       "'biodiversity_index~forest_coverage+protected_areas+deforestation_rate+soil_erosion+rural_population'"
      ]
     },
     "execution_count": 21,
     "metadata": {},
     "output_type": "execute_result"
    }
   ],
   "source": [
    "select_independent_cols = ['forest_coverage', 'protected_areas', 'deforestation_rate', 'soil_erosion', 'rural_population']\n",
    "\n",
    "# generate string\n",
    "formula_str = dependent_var+ '~' +'+'.join(select_independent_cols)\n",
    "formula_str"
   ]
  },
  {
   "cell_type": "code",
   "execution_count": 23,
   "id": "62685cbd",
   "metadata": {},
   "outputs": [
    {
     "name": "stdout",
     "output_type": "stream",
     "text": [
      "                            OLS Regression Results                            \n",
      "==============================================================================\n",
      "Dep. Variable:     biodiversity_index   R-squared:                       0.966\n",
      "Model:                            OLS   Adj. R-squared:                  0.959\n",
      "Method:                 Least Squares   F-statistic:                     146.1\n",
      "Date:                Tue, 23 Jul 2024   Prob (F-statistic):           3.59e-18\n",
      "Time:                        12:20:19   Log-Likelihood:                -102.07\n",
      "No. Observations:                  32   AIC:                             216.1\n",
      "Df Residuals:                      26   BIC:                             224.9\n",
      "Df Model:                           5                                         \n",
      "Covariance Type:            nonrobust                                         \n",
      "======================================================================================\n",
      "                         coef    std err          t      P>|t|      [0.025      0.975]\n",
      "--------------------------------------------------------------------------------------\n",
      "Intercept              1.4728      4.984      0.295      0.770      -8.773      11.718\n",
      "forest_coverage       -0.5478      0.073     -7.541      0.000      -0.697      -0.398\n",
      "protected_areas       -0.5569      0.122     -4.552      0.000      -0.808      -0.305\n",
      "deforestation_rate     1.2182      0.047     25.777      0.000       1.121       1.315\n",
      "soil_erosion           0.3505      0.231      1.520      0.141      -0.123       0.824\n",
      "rural_population      -0.0838      0.065     -1.295      0.207      -0.217       0.049\n",
      "==============================================================================\n",
      "Omnibus:                        2.145   Durbin-Watson:                   1.752\n",
      "Prob(Omnibus):                  0.342   Jarque-Bera (JB):                1.416\n",
      "Skew:                           0.514   Prob(JB):                        0.493\n",
      "Kurtosis:                       3.075   Cond. No.                         447.\n",
      "==============================================================================\n",
      "\n",
      "Notes:\n",
      "[1] Standard Errors assume that the covariance matrix of the errors is correctly specified.\n"
     ]
    }
   ],
   "source": [
    "# declare model and fit it \n",
    "model = smf.ols(formula=formula_str, data=environmental_indicators)\n",
    "\n",
    "fitted = model.fit()\n",
    "\n",
    "print(fitted.summary())"
   ]
  }
 ],
 "metadata": {
  "kernelspec": {
   "display_name": "Python 3 (ipykernel)",
   "language": "python",
   "name": "python3"
  },
  "language_info": {
   "codemirror_mode": {
    "name": "ipython",
    "version": 3
   },
   "file_extension": ".py",
   "mimetype": "text/x-python",
   "name": "python",
   "nbconvert_exporter": "python",
   "pygments_lexer": "ipython3",
   "version": "3.11.5"
  }
 },
 "nbformat": 4,
 "nbformat_minor": 5
}
